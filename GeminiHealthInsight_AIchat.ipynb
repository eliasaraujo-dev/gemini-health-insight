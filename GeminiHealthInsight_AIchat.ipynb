{
  "nbformat": 4,
  "nbformat_minor": 0,
  "metadata": {
    "colab": {
      "provenance": [],
      "authorship_tag": "ABX9TyOfqsyZ36pc+zgF6Fweyokf",
      "include_colab_link": true
    },
    "kernelspec": {
      "name": "python3",
      "display_name": "Python 3"
    },
    "language_info": {
      "name": "python"
    },
    "widgets": {
      "application/vnd.jupyter.widget-state+json": {
        "c1a507280f6548c0b74e2b1aebb56242": {
          "model_module": "@jupyter-widgets/controls",
          "model_name": "IntTextModel",
          "model_module_version": "1.5.0",
          "state": {
            "_dom_classes": [],
            "_model_module": "@jupyter-widgets/controls",
            "_model_module_version": "1.5.0",
            "_model_name": "IntTextModel",
            "_view_count": null,
            "_view_module": "@jupyter-widgets/controls",
            "_view_module_version": "1.5.0",
            "_view_name": "IntTextView",
            "continuous_update": false,
            "description": "Sua Idade:",
            "description_tooltip": null,
            "disabled": false,
            "layout": "IPY_MODEL_1cd0aa90b564405aac0f5172ea561539",
            "step": 1,
            "style": "IPY_MODEL_c7b905e983464af186ef2312dd0a74b9",
            "value": 50
          }
        },
        "1cd0aa90b564405aac0f5172ea561539": {
          "model_module": "@jupyter-widgets/base",
          "model_name": "LayoutModel",
          "model_module_version": "1.2.0",
          "state": {
            "_model_module": "@jupyter-widgets/base",
            "_model_module_version": "1.2.0",
            "_model_name": "LayoutModel",
            "_view_count": null,
            "_view_module": "@jupyter-widgets/base",
            "_view_module_version": "1.2.0",
            "_view_name": "LayoutView",
            "align_content": null,
            "align_items": null,
            "align_self": null,
            "border": null,
            "bottom": null,
            "display": null,
            "flex": null,
            "flex_flow": null,
            "grid_area": null,
            "grid_auto_columns": null,
            "grid_auto_flow": null,
            "grid_auto_rows": null,
            "grid_column": null,
            "grid_gap": null,
            "grid_row": null,
            "grid_template_areas": null,
            "grid_template_columns": null,
            "grid_template_rows": null,
            "height": null,
            "justify_content": null,
            "justify_items": null,
            "left": null,
            "margin": null,
            "max_height": null,
            "max_width": null,
            "min_height": null,
            "min_width": null,
            "object_fit": null,
            "object_position": null,
            "order": null,
            "overflow": null,
            "overflow_x": null,
            "overflow_y": null,
            "padding": null,
            "right": null,
            "top": null,
            "visibility": null,
            "width": null
          }
        },
        "c7b905e983464af186ef2312dd0a74b9": {
          "model_module": "@jupyter-widgets/controls",
          "model_name": "DescriptionStyleModel",
          "model_module_version": "1.5.0",
          "state": {
            "_model_module": "@jupyter-widgets/controls",
            "_model_module_version": "1.5.0",
            "_model_name": "DescriptionStyleModel",
            "_view_count": null,
            "_view_module": "@jupyter-widgets/base",
            "_view_module_version": "1.2.0",
            "_view_name": "StyleView",
            "description_width": "initial"
          }
        },
        "d3903767385d4e238d23bdd85e82385d": {
          "model_module": "@jupyter-widgets/controls",
          "model_name": "DropdownModel",
          "model_module_version": "1.5.0",
          "state": {
            "_dom_classes": [],
            "_model_module": "@jupyter-widgets/controls",
            "_model_module_version": "1.5.0",
            "_model_name": "DropdownModel",
            "_options_labels": [
              "Masculino",
              "Feminino"
            ],
            "_view_count": null,
            "_view_module": "@jupyter-widgets/controls",
            "_view_module_version": "1.5.0",
            "_view_name": "DropdownView",
            "description": "Sexo Biológico:",
            "description_tooltip": null,
            "disabled": false,
            "index": 0,
            "layout": "IPY_MODEL_a746213562ec4443b235ab34f332aab0",
            "style": "IPY_MODEL_fe70d02571954d449c80bd010cda4151"
          }
        },
        "a746213562ec4443b235ab34f332aab0": {
          "model_module": "@jupyter-widgets/base",
          "model_name": "LayoutModel",
          "model_module_version": "1.2.0",
          "state": {
            "_model_module": "@jupyter-widgets/base",
            "_model_module_version": "1.2.0",
            "_model_name": "LayoutModel",
            "_view_count": null,
            "_view_module": "@jupyter-widgets/base",
            "_view_module_version": "1.2.0",
            "_view_name": "LayoutView",
            "align_content": null,
            "align_items": null,
            "align_self": null,
            "border": null,
            "bottom": null,
            "display": null,
            "flex": null,
            "flex_flow": null,
            "grid_area": null,
            "grid_auto_columns": null,
            "grid_auto_flow": null,
            "grid_auto_rows": null,
            "grid_column": null,
            "grid_gap": null,
            "grid_row": null,
            "grid_template_areas": null,
            "grid_template_columns": null,
            "grid_template_rows": null,
            "height": null,
            "justify_content": null,
            "justify_items": null,
            "left": null,
            "margin": null,
            "max_height": null,
            "max_width": null,
            "min_height": null,
            "min_width": null,
            "object_fit": null,
            "object_position": null,
            "order": null,
            "overflow": null,
            "overflow_x": null,
            "overflow_y": null,
            "padding": null,
            "right": null,
            "top": null,
            "visibility": null,
            "width": null
          }
        },
        "fe70d02571954d449c80bd010cda4151": {
          "model_module": "@jupyter-widgets/controls",
          "model_name": "DescriptionStyleModel",
          "model_module_version": "1.5.0",
          "state": {
            "_model_module": "@jupyter-widgets/controls",
            "_model_module_version": "1.5.0",
            "_model_name": "DescriptionStyleModel",
            "_view_count": null,
            "_view_module": "@jupyter-widgets/base",
            "_view_module_version": "1.2.0",
            "_view_name": "StyleView",
            "description_width": "initial"
          }
        },
        "ad6f5d8dbeee44a7b80c59a90969bc15": {
          "model_module": "@jupyter-widgets/controls",
          "model_name": "IntTextModel",
          "model_module_version": "1.5.0",
          "state": {
            "_dom_classes": [],
            "_model_module": "@jupyter-widgets/controls",
            "_model_module_version": "1.5.0",
            "_model_name": "IntTextModel",
            "_view_count": null,
            "_view_module": "@jupyter-widgets/controls",
            "_view_module_version": "1.5.0",
            "_view_name": "IntTextView",
            "continuous_update": false,
            "description": "Seu LDL (mg/dL):",
            "description_tooltip": null,
            "disabled": false,
            "layout": "IPY_MODEL_7426974b56a549f494eea5195573fe86",
            "step": 1,
            "style": "IPY_MODEL_e4bd4db348f640ddafa2647b78e59681",
            "value": 130
          }
        },
        "7426974b56a549f494eea5195573fe86": {
          "model_module": "@jupyter-widgets/base",
          "model_name": "LayoutModel",
          "model_module_version": "1.2.0",
          "state": {
            "_model_module": "@jupyter-widgets/base",
            "_model_module_version": "1.2.0",
            "_model_name": "LayoutModel",
            "_view_count": null,
            "_view_module": "@jupyter-widgets/base",
            "_view_module_version": "1.2.0",
            "_view_name": "LayoutView",
            "align_content": null,
            "align_items": null,
            "align_self": null,
            "border": null,
            "bottom": null,
            "display": null,
            "flex": null,
            "flex_flow": null,
            "grid_area": null,
            "grid_auto_columns": null,
            "grid_auto_flow": null,
            "grid_auto_rows": null,
            "grid_column": null,
            "grid_gap": null,
            "grid_row": null,
            "grid_template_areas": null,
            "grid_template_columns": null,
            "grid_template_rows": null,
            "height": null,
            "justify_content": null,
            "justify_items": null,
            "left": null,
            "margin": null,
            "max_height": null,
            "max_width": null,
            "min_height": null,
            "min_width": null,
            "object_fit": null,
            "object_position": null,
            "order": null,
            "overflow": null,
            "overflow_x": null,
            "overflow_y": null,
            "padding": null,
            "right": null,
            "top": null,
            "visibility": null,
            "width": null
          }
        },
        "e4bd4db348f640ddafa2647b78e59681": {
          "model_module": "@jupyter-widgets/controls",
          "model_name": "DescriptionStyleModel",
          "model_module_version": "1.5.0",
          "state": {
            "_model_module": "@jupyter-widgets/controls",
            "_model_module_version": "1.5.0",
            "_model_name": "DescriptionStyleModel",
            "_view_count": null,
            "_view_module": "@jupyter-widgets/base",
            "_view_module_version": "1.2.0",
            "_view_name": "StyleView",
            "description_width": "initial"
          }
        },
        "4879f49b28cb49d1a652ce825d089ad6": {
          "model_module": "@jupyter-widgets/controls",
          "model_name": "IntTextModel",
          "model_module_version": "1.5.0",
          "state": {
            "_dom_classes": [],
            "_model_module": "@jupyter-widgets/controls",
            "_model_module_version": "1.5.0",
            "_model_name": "IntTextModel",
            "_view_count": null,
            "_view_module": "@jupyter-widgets/controls",
            "_view_module_version": "1.5.0",
            "_view_name": "IntTextView",
            "continuous_update": false,
            "description": "Seu HDL (mg/dL):",
            "description_tooltip": null,
            "disabled": false,
            "layout": "IPY_MODEL_0ba4f3ecb2d24e9eacdbdcd9d4bf7058",
            "step": 1,
            "style": "IPY_MODEL_d98843d5c65d43688d62ccb7fb8cf660",
            "value": 50
          }
        },
        "0ba4f3ecb2d24e9eacdbdcd9d4bf7058": {
          "model_module": "@jupyter-widgets/base",
          "model_name": "LayoutModel",
          "model_module_version": "1.2.0",
          "state": {
            "_model_module": "@jupyter-widgets/base",
            "_model_module_version": "1.2.0",
            "_model_name": "LayoutModel",
            "_view_count": null,
            "_view_module": "@jupyter-widgets/base",
            "_view_module_version": "1.2.0",
            "_view_name": "LayoutView",
            "align_content": null,
            "align_items": null,
            "align_self": null,
            "border": null,
            "bottom": null,
            "display": null,
            "flex": null,
            "flex_flow": null,
            "grid_area": null,
            "grid_auto_columns": null,
            "grid_auto_flow": null,
            "grid_auto_rows": null,
            "grid_column": null,
            "grid_gap": null,
            "grid_row": null,
            "grid_template_areas": null,
            "grid_template_columns": null,
            "grid_template_rows": null,
            "height": null,
            "justify_content": null,
            "justify_items": null,
            "left": null,
            "margin": null,
            "max_height": null,
            "max_width": null,
            "min_height": null,
            "min_width": null,
            "object_fit": null,
            "object_position": null,
            "order": null,
            "overflow": null,
            "overflow_x": null,
            "overflow_y": null,
            "padding": null,
            "right": null,
            "top": null,
            "visibility": null,
            "width": null
          }
        },
        "d98843d5c65d43688d62ccb7fb8cf660": {
          "model_module": "@jupyter-widgets/controls",
          "model_name": "DescriptionStyleModel",
          "model_module_version": "1.5.0",
          "state": {
            "_model_module": "@jupyter-widgets/controls",
            "_model_module_version": "1.5.0",
            "_model_name": "DescriptionStyleModel",
            "_view_count": null,
            "_view_module": "@jupyter-widgets/base",
            "_view_module_version": "1.2.0",
            "_view_name": "StyleView",
            "description_width": "initial"
          }
        },
        "2a3500202fb747549ea7158e65e597db": {
          "model_module": "@jupyter-widgets/controls",
          "model_name": "CheckboxModel",
          "model_module_version": "1.5.0",
          "state": {
            "_dom_classes": [],
            "_model_module": "@jupyter-widgets/controls",
            "_model_module_version": "1.5.0",
            "_model_name": "CheckboxModel",
            "_view_count": null,
            "_view_module": "@jupyter-widgets/controls",
            "_view_module_version": "1.5.0",
            "_view_name": "CheckboxView",
            "description": "Diagnóstico de Hipertensão?",
            "description_tooltip": null,
            "disabled": false,
            "indent": false,
            "layout": "IPY_MODEL_9418fc47f45d4a949e0d77377b3cd1b9",
            "style": "IPY_MODEL_bf83912b273247e097b1133fb861340c",
            "value": false
          }
        },
        "9418fc47f45d4a949e0d77377b3cd1b9": {
          "model_module": "@jupyter-widgets/base",
          "model_name": "LayoutModel",
          "model_module_version": "1.2.0",
          "state": {
            "_model_module": "@jupyter-widgets/base",
            "_model_module_version": "1.2.0",
            "_model_name": "LayoutModel",
            "_view_count": null,
            "_view_module": "@jupyter-widgets/base",
            "_view_module_version": "1.2.0",
            "_view_name": "LayoutView",
            "align_content": null,
            "align_items": null,
            "align_self": null,
            "border": null,
            "bottom": null,
            "display": null,
            "flex": null,
            "flex_flow": null,
            "grid_area": null,
            "grid_auto_columns": null,
            "grid_auto_flow": null,
            "grid_auto_rows": null,
            "grid_column": null,
            "grid_gap": null,
            "grid_row": null,
            "grid_template_areas": null,
            "grid_template_columns": null,
            "grid_template_rows": null,
            "height": null,
            "justify_content": null,
            "justify_items": null,
            "left": null,
            "margin": null,
            "max_height": null,
            "max_width": null,
            "min_height": null,
            "min_width": null,
            "object_fit": null,
            "object_position": null,
            "order": null,
            "overflow": null,
            "overflow_x": null,
            "overflow_y": null,
            "padding": null,
            "right": null,
            "top": null,
            "visibility": null,
            "width": null
          }
        },
        "bf83912b273247e097b1133fb861340c": {
          "model_module": "@jupyter-widgets/controls",
          "model_name": "DescriptionStyleModel",
          "model_module_version": "1.5.0",
          "state": {
            "_model_module": "@jupyter-widgets/controls",
            "_model_module_version": "1.5.0",
            "_model_name": "DescriptionStyleModel",
            "_view_count": null,
            "_view_module": "@jupyter-widgets/base",
            "_view_module_version": "1.2.0",
            "_view_name": "StyleView",
            "description_width": ""
          }
        },
        "b6667bfd4f784891a2bbcf09cce53c68": {
          "model_module": "@jupyter-widgets/controls",
          "model_name": "DropdownModel",
          "model_module_version": "1.5.0",
          "state": {
            "_dom_classes": [],
            "_model_module": "@jupyter-widgets/controls",
            "_model_module_version": "1.5.0",
            "_model_name": "DropdownModel",
            "_options_labels": [
              "Sedentário (0 min/sem",
              "Leve (até 60min/sem)",
              "Moderada (até 150 min/sem)",
              "Intensa (>150 min/sem)"
            ],
            "_view_count": null,
            "_view_module": "@jupyter-widgets/controls",
            "_view_module_version": "1.5.0",
            "_view_name": "DropdownView",
            "description": "Atividade Física Semanal:",
            "description_tooltip": null,
            "disabled": false,
            "index": 0,
            "layout": "IPY_MODEL_90fb87d24be849868742bda405eba5de",
            "style": "IPY_MODEL_ea43e9c42ba8434fac664dcf62027671"
          }
        },
        "90fb87d24be849868742bda405eba5de": {
          "model_module": "@jupyter-widgets/base",
          "model_name": "LayoutModel",
          "model_module_version": "1.2.0",
          "state": {
            "_model_module": "@jupyter-widgets/base",
            "_model_module_version": "1.2.0",
            "_model_name": "LayoutModel",
            "_view_count": null,
            "_view_module": "@jupyter-widgets/base",
            "_view_module_version": "1.2.0",
            "_view_name": "LayoutView",
            "align_content": null,
            "align_items": null,
            "align_self": null,
            "border": null,
            "bottom": null,
            "display": null,
            "flex": null,
            "flex_flow": null,
            "grid_area": null,
            "grid_auto_columns": null,
            "grid_auto_flow": null,
            "grid_auto_rows": null,
            "grid_column": null,
            "grid_gap": null,
            "grid_row": null,
            "grid_template_areas": null,
            "grid_template_columns": null,
            "grid_template_rows": null,
            "height": null,
            "justify_content": null,
            "justify_items": null,
            "left": null,
            "margin": null,
            "max_height": null,
            "max_width": null,
            "min_height": null,
            "min_width": null,
            "object_fit": null,
            "object_position": null,
            "order": null,
            "overflow": null,
            "overflow_x": null,
            "overflow_y": null,
            "padding": null,
            "right": null,
            "top": null,
            "visibility": null,
            "width": null
          }
        },
        "ea43e9c42ba8434fac664dcf62027671": {
          "model_module": "@jupyter-widgets/controls",
          "model_name": "DescriptionStyleModel",
          "model_module_version": "1.5.0",
          "state": {
            "_model_module": "@jupyter-widgets/controls",
            "_model_module_version": "1.5.0",
            "_model_name": "DescriptionStyleModel",
            "_view_count": null,
            "_view_module": "@jupyter-widgets/base",
            "_view_module_version": "1.2.0",
            "_view_name": "StyleView",
            "description_width": "initial"
          }
        },
        "3d0c1bb1ade2478e9bebd7eba305ff5f": {
          "model_module": "@jupyter-widgets/controls",
          "model_name": "DropdownModel",
          "model_module_version": "1.5.0",
          "state": {
            "_dom_classes": [],
            "_model_module": "@jupyter-widgets/controls",
            "_model_module_version": "1.5.0",
            "_model_name": "DropdownModel",
            "_options_labels": [
              "Centro",
              "Copacabana",
              "Tijuca",
              "Barra da Tijuca",
              "Bangu",
              "Outro"
            ],
            "_view_count": null,
            "_view_module": "@jupyter-widgets/controls",
            "_view_module_version": "1.5.0",
            "_view_name": "DropdownView",
            "description": "Seu Bairro (Rio de Janeiro):",
            "description_tooltip": null,
            "disabled": false,
            "index": 0,
            "layout": "IPY_MODEL_cfb12284b96f41a99f7e811b338db5df",
            "style": "IPY_MODEL_4d73f0f03a7f41b1ae3fb3e015450ba8"
          }
        },
        "cfb12284b96f41a99f7e811b338db5df": {
          "model_module": "@jupyter-widgets/base",
          "model_name": "LayoutModel",
          "model_module_version": "1.2.0",
          "state": {
            "_model_module": "@jupyter-widgets/base",
            "_model_module_version": "1.2.0",
            "_model_name": "LayoutModel",
            "_view_count": null,
            "_view_module": "@jupyter-widgets/base",
            "_view_module_version": "1.2.0",
            "_view_name": "LayoutView",
            "align_content": null,
            "align_items": null,
            "align_self": null,
            "border": null,
            "bottom": null,
            "display": null,
            "flex": null,
            "flex_flow": null,
            "grid_area": null,
            "grid_auto_columns": null,
            "grid_auto_flow": null,
            "grid_auto_rows": null,
            "grid_column": null,
            "grid_gap": null,
            "grid_row": null,
            "grid_template_areas": null,
            "grid_template_columns": null,
            "grid_template_rows": null,
            "height": null,
            "justify_content": null,
            "justify_items": null,
            "left": null,
            "margin": null,
            "max_height": null,
            "max_width": null,
            "min_height": null,
            "min_width": null,
            "object_fit": null,
            "object_position": null,
            "order": null,
            "overflow": null,
            "overflow_x": null,
            "overflow_y": null,
            "padding": null,
            "right": null,
            "top": null,
            "visibility": null,
            "width": null
          }
        },
        "4d73f0f03a7f41b1ae3fb3e015450ba8": {
          "model_module": "@jupyter-widgets/controls",
          "model_name": "DescriptionStyleModel",
          "model_module_version": "1.5.0",
          "state": {
            "_model_module": "@jupyter-widgets/controls",
            "_model_module_version": "1.5.0",
            "_model_name": "DescriptionStyleModel",
            "_view_count": null,
            "_view_module": "@jupyter-widgets/base",
            "_view_module_version": "1.2.0",
            "_view_name": "StyleView",
            "description_width": "initial"
          }
        },
        "b4f71912a9624a9c999353e939174d74": {
          "model_module": "@jupyter-widgets/controls",
          "model_name": "ButtonModel",
          "model_module_version": "1.5.0",
          "state": {
            "_dom_classes": [],
            "_model_module": "@jupyter-widgets/controls",
            "_model_module_version": "1.5.0",
            "_model_name": "ButtonModel",
            "_view_count": null,
            "_view_module": "@jupyter-widgets/controls",
            "_view_module_version": "1.5.0",
            "_view_name": "ButtonView",
            "button_style": "",
            "description": "Analisar e Gerar Recomendações",
            "disabled": false,
            "icon": "",
            "layout": "IPY_MODEL_1bf4e13fe5074002be7ebe6b1805d42a",
            "style": "IPY_MODEL_6cf9f713aeb74ae5b1eef7e84707bd11",
            "tooltip": ""
          }
        },
        "1bf4e13fe5074002be7ebe6b1805d42a": {
          "model_module": "@jupyter-widgets/base",
          "model_name": "LayoutModel",
          "model_module_version": "1.2.0",
          "state": {
            "_model_module": "@jupyter-widgets/base",
            "_model_module_version": "1.2.0",
            "_model_name": "LayoutModel",
            "_view_count": null,
            "_view_module": "@jupyter-widgets/base",
            "_view_module_version": "1.2.0",
            "_view_name": "LayoutView",
            "align_content": null,
            "align_items": null,
            "align_self": null,
            "border": null,
            "bottom": null,
            "display": null,
            "flex": null,
            "flex_flow": null,
            "grid_area": null,
            "grid_auto_columns": null,
            "grid_auto_flow": null,
            "grid_auto_rows": null,
            "grid_column": null,
            "grid_gap": null,
            "grid_row": null,
            "grid_template_areas": null,
            "grid_template_columns": null,
            "grid_template_rows": null,
            "height": null,
            "justify_content": null,
            "justify_items": null,
            "left": null,
            "margin": null,
            "max_height": null,
            "max_width": null,
            "min_height": null,
            "min_width": null,
            "object_fit": null,
            "object_position": null,
            "order": null,
            "overflow": null,
            "overflow_x": null,
            "overflow_y": null,
            "padding": null,
            "right": null,
            "top": null,
            "visibility": null,
            "width": null
          }
        },
        "6cf9f713aeb74ae5b1eef7e84707bd11": {
          "model_module": "@jupyter-widgets/controls",
          "model_name": "ButtonStyleModel",
          "model_module_version": "1.5.0",
          "state": {
            "_model_module": "@jupyter-widgets/controls",
            "_model_module_version": "1.5.0",
            "_model_name": "ButtonStyleModel",
            "_view_count": null,
            "_view_module": "@jupyter-widgets/base",
            "_view_module_version": "1.2.0",
            "_view_name": "StyleView",
            "button_color": null,
            "font_weight": ""
          }
        },
        "15af71f5001b4316aad209eb3994fa79": {
          "model_module": "@jupyter-widgets/output",
          "model_name": "OutputModel",
          "model_module_version": "1.0.0",
          "state": {
            "_dom_classes": [],
            "_model_module": "@jupyter-widgets/output",
            "_model_module_version": "1.0.0",
            "_model_name": "OutputModel",
            "_view_count": null,
            "_view_module": "@jupyter-widgets/output",
            "_view_module_version": "1.0.0",
            "_view_name": "OutputView",
            "layout": "IPY_MODEL_21aaca0f3b964b9fb6813fe33deb1eb4",
            "msg_id": "",
            "outputs": []
          }
        },
        "21aaca0f3b964b9fb6813fe33deb1eb4": {
          "model_module": "@jupyter-widgets/base",
          "model_name": "LayoutModel",
          "model_module_version": "1.2.0",
          "state": {
            "_model_module": "@jupyter-widgets/base",
            "_model_module_version": "1.2.0",
            "_model_name": "LayoutModel",
            "_view_count": null,
            "_view_module": "@jupyter-widgets/base",
            "_view_module_version": "1.2.0",
            "_view_name": "LayoutView",
            "align_content": null,
            "align_items": null,
            "align_self": null,
            "border": null,
            "bottom": null,
            "display": null,
            "flex": null,
            "flex_flow": null,
            "grid_area": null,
            "grid_auto_columns": null,
            "grid_auto_flow": null,
            "grid_auto_rows": null,
            "grid_column": null,
            "grid_gap": null,
            "grid_row": null,
            "grid_template_areas": null,
            "grid_template_columns": null,
            "grid_template_rows": null,
            "height": null,
            "justify_content": null,
            "justify_items": null,
            "left": null,
            "margin": null,
            "max_height": null,
            "max_width": null,
            "min_height": null,
            "min_width": null,
            "object_fit": null,
            "object_position": null,
            "order": null,
            "overflow": null,
            "overflow_x": null,
            "overflow_y": null,
            "padding": null,
            "right": null,
            "top": null,
            "visibility": null,
            "width": null
          }
        }
      }
    }
  },
  "cells": [
    {
      "cell_type": "markdown",
      "metadata": {
        "id": "view-in-github",
        "colab_type": "text"
      },
      "source": [
        "<a href=\"https://colab.research.google.com/github/eliasaraujo-dev/gemini-health-insight/blob/main/GeminiHealthInsight_AIchat.ipynb\" target=\"_parent\"><img src=\"https://colab.research.google.com/assets/colab-badge.svg\" alt=\"Open In Colab\"/></a>"
      ]
    },
    {
      "cell_type": "markdown",
      "source": [
        "**Instalação da biblioteca Python do Google Gemini**"
      ],
      "metadata": {
        "id": "1_t1mrrQMIWZ"
      }
    },
    {
      "cell_type": "code",
      "source": [
        "!pip install -q google-generativeai"
      ],
      "metadata": {
        "id": "lkUgKI6bKKsy"
      },
      "execution_count": 1,
      "outputs": []
    },
    {
      "cell_type": "markdown",
      "source": [
        "**Importação das bibliotecas necessárias**"
      ],
      "metadata": {
        "id": "lFa5e8cxMUN8"
      }
    },
    {
      "cell_type": "code",
      "source": [
        "import google.generativeai as genai\n",
        "import json # Para formatar os dados para o prompt\n",
        "# Futuramente, para a fun;áo de gerar múltiplos pacientes:\n",
        "import random\n",
        "# Futuramente, para a interface\n",
        "# import ipywidgets as widgets\n",
        "# from IPython.display import display, Markdown"
      ],
      "metadata": {
        "id": "q3D0MYStKe6X"
      },
      "execution_count": 2,
      "outputs": []
    },
    {
      "cell_type": "code",
      "source": [
        "import os\n",
        "from google.colab import userdata\n",
        "\n",
        "try:\n",
        "  GOOGLE_API_KEY = userdata.get('GOOGLE_API_KEY')\n",
        "  genai.configure(api_key=GOOGLE_API_KEY)\n",
        "  print(\"API Key configurada com sucesso!\")\n",
        "except userdata.SecretNotFoundError:\n",
        "  print(\"Erro: Secret 'GEMINI_API_KEY' não encontrado. Por favor, configure-o no Colab.\")\n",
        "except Exception as e:\n",
        "  print(f\"Ocorreu um erro ao configurar a API Key: {e}\")"
      ],
      "metadata": {
        "colab": {
          "base_uri": "https://localhost:8080/"
        },
        "id": "_BH7cS9GK43i",
        "outputId": "3222b45f-1442-4b36-c049-8fda502087fd"
      },
      "execution_count": 3,
      "outputs": [
        {
          "output_type": "stream",
          "name": "stdout",
          "text": [
            "API Key configurada com sucesso!\n"
          ]
        }
      ]
    },
    {
      "cell_type": "code",
      "source": [
        "model = genai.GenerativeModel('gemini-2.0-flash')\n",
        "print(\"Modelo Gemini carregado com sucesso!\")"
      ],
      "metadata": {
        "colab": {
          "base_uri": "https://localhost:8080/"
        },
        "id": "Q27AATpTL0oR",
        "outputId": "d9ae7c89-ccd9-458a-8152-70fe90c9ca58"
      },
      "execution_count": 4,
      "outputs": [
        {
          "output_type": "stream",
          "name": "stdout",
          "text": [
            "Modelo Gemini carregado com sucesso!\n"
          ]
        }
      ]
    },
    {
      "cell_type": "code",
      "source": [
        "# Dados de um Único Paciente\n",
        "paciente_exemplo_1 = {\n",
        "    \"id_paciente\": \"P001\",\n",
        "    \"dados_pessoais\": { # Adicionando alguns dados demográficos básicos\n",
        "        \"idade\": 52,\n",
        "        \"sexo_biologico\": \"Masculino\"\n",
        "    },\n",
        "    \"dados_genomicos\": {\n",
        "        \"Variante_Genetica_Colesterol\": \"Presente\",\n",
        "        \"Polimorfismo_APOE\": \"e3/e4\"\n",
        "    },\n",
        "    \"historico_medico\": {\n",
        "        \"Historico_Familiar_DCV\": \"Sim\",\n",
        "        \"Parentesco_DCV\": \"Pai\",\n",
        "        \"Idade_Diagnostico_Familiar_DCV\": 55,\n",
        "        \"Diagnostico_Hipertensao\": \"Sim\", # Modificado para mais risco\n",
        "        \"Pressao_Arterial_Sistolica_mmHg\": 145, # Adicionado\n",
        "        \"Pressao_Arterial_Diastolica_mmHg\": 92,  # Adicionado\n",
        "        \"Diagnostico_Diabetes\": \"Não\",\n",
        "        \"Nivel_Colesterol_Ultimo_Exame\": {\n",
        "            \"LDL_Colesterol_mg_dL\": 150,\n",
        "            \"HDL_Colesterol_mg_dL\": 45,\n",
        "            \"Triglicerideos_mg_dL\": 180\n",
        "        },\n",
        "        \"Medicacoes_Uso\": [\"Lisinopril 10mg\"] # Medicamento para hipertensão\n",
        "    },\n",
        "    \"estilo_de_vida\": {\n",
        "        \"Alimentacao_Tipo\": \"Ocidental_Processada\",\n",
        "        \"Frequencia_Alimentacao_Processada\": \"Alta\",\n",
        "        \"Atividade_Fisica_Semanal_Minutos\": 60,\n",
        "        \"Atividade_Fisica_Tipo\": \"Caminhada Leve\",\n",
        "        \"Tabagismo_Status\": \"Ex-Fumante\", # Modificado\n",
        "        \"Anos_Desde_Cessacao_Tabagismo\": 5, # Adicionado\n",
        "        \"Consumo_Alcool_Frequencia\": \"Semanal\", # Modificado\n",
        "        \"Consumo_Alcool_Doses_Por_Vez\": 2, # Adicionado\n",
        "        \"Nivel_Estresse_Percebido\": \"Alto\", # Modificado\n",
        "        \"Horas_Sono_Media_Noite\": 6.0\n",
        "    },\n",
        "    \"dados_ambientais\": {\n",
        "        \"Cidade_Residencia\": \"Rio de Janeiro\",\n",
        "        \"Bairro_Residencia_Simulado\": \"Centro\", # Para simular exposição\n",
        "        \"Qualidade_Ar_Regiao_RJ\": \"Moderada\",\n",
        "        \"Exposicao_Poluicao_Sonora\": \"Alta\"\n",
        "    }\n",
        "}\n",
        "\n",
        "# print(json.dumps(paciente_exemplo_1, indent=2, ensure_ascii=False)) # Imprime formatado"
      ],
      "metadata": {
        "id": "0AK2z6W0MDtO"
      },
      "execution_count": 5,
      "outputs": []
    },
    {
      "cell_type": "code",
      "source": [
        "print(json.dumps(paciente_exemplo_1, indent=2, ensure_ascii=False))"
      ],
      "metadata": {
        "colab": {
          "base_uri": "https://localhost:8080/"
        },
        "collapsed": true,
        "id": "eMwR4hhnKPzw",
        "outputId": "705cff71-f7bf-4eac-94d5-aa0c23b82354"
      },
      "execution_count": 6,
      "outputs": [
        {
          "output_type": "stream",
          "name": "stdout",
          "text": [
            "{\n",
            "  \"id_paciente\": \"P001\",\n",
            "  \"dados_pessoais\": {\n",
            "    \"idade\": 52,\n",
            "    \"sexo_biologico\": \"Masculino\"\n",
            "  },\n",
            "  \"dados_genomicos\": {\n",
            "    \"Variante_Genetica_Colesterol\": \"Presente\",\n",
            "    \"Polimorfismo_APOE\": \"e3/e4\"\n",
            "  },\n",
            "  \"historico_medico\": {\n",
            "    \"Historico_Familiar_DCV\": \"Sim\",\n",
            "    \"Parentesco_DCV\": \"Pai\",\n",
            "    \"Idade_Diagnostico_Familiar_DCV\": 55,\n",
            "    \"Diagnostico_Hipertensao\": \"Sim\",\n",
            "    \"Pressao_Arterial_Sistolica_mmHg\": 145,\n",
            "    \"Pressao_Arterial_Diastolica_mmHg\": 92,\n",
            "    \"Diagnostico_Diabetes\": \"Não\",\n",
            "    \"Nivel_Colesterol_Ultimo_Exame\": {\n",
            "      \"LDL_Colesterol_mg_dL\": 150,\n",
            "      \"HDL_Colesterol_mg_dL\": 45,\n",
            "      \"Triglicerideos_mg_dL\": 180\n",
            "    },\n",
            "    \"Medicacoes_Uso\": [\n",
            "      \"Lisinopril 10mg\"\n",
            "    ]\n",
            "  },\n",
            "  \"estilo_de_vida\": {\n",
            "    \"Alimentacao_Tipo\": \"Ocidental_Processada\",\n",
            "    \"Frequencia_Alimentacao_Processada\": \"Alta\",\n",
            "    \"Atividade_Fisica_Semanal_Minutos\": 60,\n",
            "    \"Atividade_Fisica_Tipo\": \"Caminhada Leve\",\n",
            "    \"Tabagismo_Status\": \"Ex-Fumante\",\n",
            "    \"Anos_Desde_Cessacao_Tabagismo\": 5,\n",
            "    \"Consumo_Alcool_Frequencia\": \"Semanal\",\n",
            "    \"Consumo_Alcool_Doses_Por_Vez\": 2,\n",
            "    \"Nivel_Estresse_Percebido\": \"Alto\",\n",
            "    \"Horas_Sono_Media_Noite\": 6.0\n",
            "  },\n",
            "  \"dados_ambientais\": {\n",
            "    \"Cidade_Residencia\": \"Rio de Janeiro\",\n",
            "    \"Bairro_Residencia_Simulado\": \"Centro\",\n",
            "    \"Qualidade_Ar_Regiao_RJ\": \"Moderada\",\n",
            "    \"Exposicao_Poluicao_Sonora\": \"Alta\"\n",
            "  }\n",
            "}\n"
          ]
        }
      ]
    },
    {
      "cell_type": "code",
      "source": [
        "# Função para Gerar Múltiplos Pacientes Simulados (Opcional, mas útil para testes)\n",
        "def gerar_paciente_simulado(paciente_id):\n",
        "    sexos = [\"Masculino\", \"Feminino\"]\n",
        "    variantes_colesterol = [\"Presente\", \"Ausente\"]\n",
        "    apo_e_tipos = [\"e3/e3\", \"e3/e4\", \"e2/e3\", \"e4/e4\"]\n",
        "    sim_nao = [\"Sim\", \"Não\"]\n",
        "    tipos_alimentacao = [\"Ocidental_Processada\", \"Equilibrada_Mediterranea\", \"Vegetariana\", \"Baixo_Carboidrato\"]\n",
        "    niveis_atividade = [\"Sedentário\", \"Caminhada Leve\", \"Atividade Moderada\", \"Atividade Intensa\"]\n",
        "    status_tabagismo = [\"Não Fumante\", \"Ex-Fumante\", \"Fumante Atual\"]\n",
        "    frequencia_alcool = [\"Nenhum\", \"Ocasional\", \"Semanal\", \"Diário\"]\n",
        "    niveis_estresse = [\"Baixo\", \"Médio\", \"Alto\"]\n",
        "    qualidade_ar_bairros_rj = {\n",
        "        \"Centro\": \"Moderada\", \"Copacabana\": \"Moderada\", \"Tijuca\": \"Ruim\",\n",
        "        \"Barra da Tijuca\": \"Boa\", \"Bangu\": \"Ruim\", \"Santa Cruz\": \"Moderada\"\n",
        "    }\n",
        "    bairros = list(qualidade_ar_bairros_rj.keys())\n",
        "\n",
        "    bairro_escolhido = random.choice(bairros)\n",
        "\n",
        "    paciente = {\n",
        "        \"id_paciente\": f\"P{str(paciente_id).zfill(3)}\",\n",
        "        \"dados_pessoais\": {\n",
        "            \"idade\": random.randint(30, 75),\n",
        "            \"sexo_biologico\": random.choice(sexos)\n",
        "        },\n",
        "        \"dados_genomicos\": {\n",
        "            \"Variante_Genetica_Colesterol\": random.choice(variantes_colesterol),\n",
        "            \"Polimorfismo_APOE\": random.choice(apo_e_tipos)\n",
        "        },\n",
        "        \"historico_medico\": {\n",
        "            \"Historico_Familiar_DCV\": random.choice(sim_nao),\n",
        "            \"Diagnostico_Hipertensao\": random.choice(sim_nao),\n",
        "            \"Pressao_Arterial_Sistolica_mmHg\": random.randint(110, 180) if random.choice(sim_nao) == \"Sim\" else None,\n",
        "            \"Pressao_Arterial_Diastolica_mmHg\": random.randint(70, 110) if random.choice(sim_nao) == \"Sim\" else None,\n",
        "            \"Diagnostico_Diabetes\": random.choice(sim_nao),\n",
        "            \"Nivel_Colesterol_Ultimo_Exame\": {\n",
        "                \"LDL_Colesterol_mg_dL\": random.randint(70, 250),\n",
        "                \"HDL_Colesterol_mg_dL\": random.randint(30, 100),\n",
        "                \"Triglicerideos_mg_dL\": random.randint(50, 400)\n",
        "            },\n",
        "            \"Medicacoes_Uso\": [f\"Medicação Simulada {i+1}\" for i in range(random.randint(0,3))]\n",
        "        },\n",
        "        \"estilo_de_vida\": {\n",
        "            \"Alimentacao_Tipo\": random.choice(tipos_alimentacao),\n",
        "            \"Frequencia_Alimentacao_Processada\": random.choice([\"Baixa\", \"Média\", \"Alta\"]),\n",
        "            \"Atividade_Fisica_Semanal_Minutos\": random.choice([0, 30, 60, 90, 120, 150, 200, 300]),\n",
        "            \"Atividade_Fisica_Tipo\": random.choice(niveis_atividade),\n",
        "            \"Tabagismo_Status\": random.choice(status_tabagismo),\n",
        "            \"Anos_Desde_Cessacao_Tabagismo\": random.randint(1, 20) if \"Ex-Fumante\" else None,\n",
        "            \"Consumo_Alcool_Frequencia\": random.choice(frequencia_alcool),\n",
        "            \"Consumo_Alcool_Doses_Por_Vez\": random.randint(1,5) if frequencia_alcool != \"Nenhum\" else 0,\n",
        "            \"Nivel_Estresse_Percebido\": random.choice(niveis_estresse),\n",
        "            \"Horas_Sono_Media_Noite\": round(random.uniform(4.5, 9.0), 1)\n",
        "        },\n",
        "        \"dados_ambientais\": {\n",
        "            \"Cidade_Residencia\": \"Rio de Janeiro\",\n",
        "            \"Bairro_Residencia_Simulado\": bairro_escolhido,\n",
        "            \"Qualidade_Ar_Regiao_RJ\": qualidade_ar_bairros_rj[bairro_escolhido],\n",
        "            \"Exposicao_Poluicao_Sonora\": random.choice([\"Baixa\", \"Média\", \"Alta\"])\n",
        "        }\n",
        "    }\n",
        "    return paciente\n",
        "\n",
        "# Gerar uma lista de pacientes simulados\n",
        "# numero_de_pacientes_simulados = 5\n",
        "# lista_pacientes_simulados = [gerar_paciente_simulado(i+1) for i in range(numero_de_pacientes_simulados)]\n",
        "\n",
        "# Para visualizar o primeiro paciente gerado pela função:\n",
        "# print(\"\\nPaciente gerado pela função:\")\n",
        "# print(json.dumps(lista_pacientes_simulados[0], indent=2, ensure_ascii=False))"
      ],
      "metadata": {
        "id": "Lsde0bi-i6tU"
      },
      "execution_count": 7,
      "outputs": []
    },
    {
      "cell_type": "code",
      "source": [
        "# Gerar uma lista de pacientes simulados\n",
        "numero_de_pacientes_simulados = 5\n",
        "lista_pacientes_simulados = [gerar_paciente_simulado(i+1) for i in range(numero_de_pacientes_simulados)]"
      ],
      "metadata": {
        "id": "G9HxejHo6W6a"
      },
      "execution_count": 8,
      "outputs": []
    },
    {
      "cell_type": "code",
      "source": [
        "# Para visualizar o primeiro paciente gerado pela função:\n",
        "print(\"\\nPaciente gerado pela função:\")\n",
        "print(json.dumps(lista_pacientes_simulados[0], indent=2, ensure_ascii=False))"
      ],
      "metadata": {
        "colab": {
          "base_uri": "https://localhost:8080/"
        },
        "collapsed": true,
        "id": "Cc6Wf4ieL1x1",
        "outputId": "e8adbb50-77b4-4d4e-f5f9-242e1315cc80"
      },
      "execution_count": 9,
      "outputs": [
        {
          "output_type": "stream",
          "name": "stdout",
          "text": [
            "\n",
            "Paciente gerado pela função:\n",
            "{\n",
            "  \"id_paciente\": \"P001\",\n",
            "  \"dados_pessoais\": {\n",
            "    \"idade\": 47,\n",
            "    \"sexo_biologico\": \"Feminino\"\n",
            "  },\n",
            "  \"dados_genomicos\": {\n",
            "    \"Variante_Genetica_Colesterol\": \"Presente\",\n",
            "    \"Polimorfismo_APOE\": \"e3/e4\"\n",
            "  },\n",
            "  \"historico_medico\": {\n",
            "    \"Historico_Familiar_DCV\": \"Sim\",\n",
            "    \"Diagnostico_Hipertensao\": \"Sim\",\n",
            "    \"Pressao_Arterial_Sistolica_mmHg\": 135,\n",
            "    \"Pressao_Arterial_Diastolica_mmHg\": null,\n",
            "    \"Diagnostico_Diabetes\": \"Não\",\n",
            "    \"Nivel_Colesterol_Ultimo_Exame\": {\n",
            "      \"LDL_Colesterol_mg_dL\": 221,\n",
            "      \"HDL_Colesterol_mg_dL\": 33,\n",
            "      \"Triglicerideos_mg_dL\": 65\n",
            "    },\n",
            "    \"Medicacoes_Uso\": [\n",
            "      \"Medicação Simulada 1\",\n",
            "      \"Medicação Simulada 2\"\n",
            "    ]\n",
            "  },\n",
            "  \"estilo_de_vida\": {\n",
            "    \"Alimentacao_Tipo\": \"Ocidental_Processada\",\n",
            "    \"Frequencia_Alimentacao_Processada\": \"Alta\",\n",
            "    \"Atividade_Fisica_Semanal_Minutos\": 150,\n",
            "    \"Atividade_Fisica_Tipo\": \"Atividade Intensa\",\n",
            "    \"Tabagismo_Status\": \"Não Fumante\",\n",
            "    \"Anos_Desde_Cessacao_Tabagismo\": 8,\n",
            "    \"Consumo_Alcool_Frequencia\": \"Nenhum\",\n",
            "    \"Consumo_Alcool_Doses_Por_Vez\": 3,\n",
            "    \"Nivel_Estresse_Percebido\": \"Alto\",\n",
            "    \"Horas_Sono_Media_Noite\": 7.7\n",
            "  },\n",
            "  \"dados_ambientais\": {\n",
            "    \"Cidade_Residencia\": \"Rio de Janeiro\",\n",
            "    \"Bairro_Residencia_Simulado\": \"Tijuca\",\n",
            "    \"Qualidade_Ar_Regiao_RJ\": \"Ruim\",\n",
            "    \"Exposicao_Poluicao_Sonora\": \"Média\"\n",
            "  }\n",
            "}\n"
          ]
        }
      ]
    },
    {
      "cell_type": "code",
      "source": [
        "# Imprimindo pacientes através do índice\n",
        "print(lista_pacientes_simulados[0])"
      ],
      "metadata": {
        "colab": {
          "base_uri": "https://localhost:8080/"
        },
        "id": "JlsZBbnsMfmR",
        "outputId": "629760de-4faa-4cb2-cd09-ef46fda0af6b"
      },
      "execution_count": 10,
      "outputs": [
        {
          "output_type": "stream",
          "name": "stdout",
          "text": [
            "{'id_paciente': 'P001', 'dados_pessoais': {'idade': 47, 'sexo_biologico': 'Feminino'}, 'dados_genomicos': {'Variante_Genetica_Colesterol': 'Presente', 'Polimorfismo_APOE': 'e3/e4'}, 'historico_medico': {'Historico_Familiar_DCV': 'Sim', 'Diagnostico_Hipertensao': 'Sim', 'Pressao_Arterial_Sistolica_mmHg': 135, 'Pressao_Arterial_Diastolica_mmHg': None, 'Diagnostico_Diabetes': 'Não', 'Nivel_Colesterol_Ultimo_Exame': {'LDL_Colesterol_mg_dL': 221, 'HDL_Colesterol_mg_dL': 33, 'Triglicerideos_mg_dL': 65}, 'Medicacoes_Uso': ['Medicação Simulada 1', 'Medicação Simulada 2']}, 'estilo_de_vida': {'Alimentacao_Tipo': 'Ocidental_Processada', 'Frequencia_Alimentacao_Processada': 'Alta', 'Atividade_Fisica_Semanal_Minutos': 150, 'Atividade_Fisica_Tipo': 'Atividade Intensa', 'Tabagismo_Status': 'Não Fumante', 'Anos_Desde_Cessacao_Tabagismo': 8, 'Consumo_Alcool_Frequencia': 'Nenhum', 'Consumo_Alcool_Doses_Por_Vez': 3, 'Nivel_Estresse_Percebido': 'Alto', 'Horas_Sono_Media_Noite': 7.7}, 'dados_ambientais': {'Cidade_Residencia': 'Rio de Janeiro', 'Bairro_Residencia_Simulado': 'Tijuca', 'Qualidade_Ar_Regiao_RJ': 'Ruim', 'Exposicao_Poluicao_Sonora': 'Média'}}\n"
          ]
        }
      ]
    },
    {
      "cell_type": "markdown",
      "source": [
        "**Análise de Risco Cardiovascular**"
      ],
      "metadata": {
        "id": "oRViunCZZfCz"
      }
    },
    {
      "cell_type": "code",
      "source": [
        "# Preparação do Prompt de Análise:\n",
        "# Escolha um paciente para análise (o exemplo 1 ou um da lista gerada)\n",
        "paciente_para_analise = paciente_exemplo_1 # Ou: lista_pacientes_simulados[0]\n",
        "\n",
        "# Convertendo o dicionário do paciente para uma string JSON formatada para o prompt\n",
        "dados_paciente_json_string = json.dumps(paciente_para_analise, indent=2, ensure_ascii=False)\n",
        "\n",
        "prompt_analise_risco = f\"\"\"\n",
        "Você é um assistente de análise de saúde preventiva.\n",
        "Analise os seguintes dados de um indivíduo e identifique os principais fatores de risco cardiovascular.\n",
        "Considere a combinação de fatores genômicos, histórico médico, estilo de vida e dados ambientais.\n",
        "Forneça um resumo conciso dos fatores de risco identificados.\n",
        "Não forneça aconselhamento médico, apenas identifique os fatores de risco com base nos dados.\n",
        "\n",
        "Dados do Indivíduo:\n",
        "{dados_paciente_json_string}\n",
        "\n",
        "Análise de Risco Cardiovascular:\n",
        "\"\"\"\n",
        "# print(\"\\nPrompt para Análise de Risco:\")\n",
        "# print(prompt_analise_risco)"
      ],
      "metadata": {
        "id": "Ock-0j_hNw0I"
      },
      "execution_count": 11,
      "outputs": []
    },
    {
      "cell_type": "code",
      "source": [
        "print(\"\\nPrompt para Análise de Risco:\")\n",
        "print(prompt_analise_risco)"
      ],
      "metadata": {
        "colab": {
          "base_uri": "https://localhost:8080/"
        },
        "collapsed": true,
        "id": "3IQFInHGcmn6",
        "outputId": "a9234d12-c306-4957-84e3-3fea2bde8b55"
      },
      "execution_count": 12,
      "outputs": [
        {
          "output_type": "stream",
          "name": "stdout",
          "text": [
            "\n",
            "Prompt para Análise de Risco:\n",
            "\n",
            "Você é um assistente de análise de saúde preventiva.\n",
            "Analise os seguintes dados de um indivíduo e identifique os principais fatores de risco cardiovascular.\n",
            "Considere a combinação de fatores genômicos, histórico médico, estilo de vida e dados ambientais.\n",
            "Forneça um resumo conciso dos fatores de risco identificados.\n",
            "Não forneça aconselhamento médico, apenas identifique os fatores de risco com base nos dados.\n",
            "\n",
            "Dados do Indivíduo:\n",
            "{\n",
            "  \"id_paciente\": \"P001\",\n",
            "  \"dados_pessoais\": {\n",
            "    \"idade\": 52,\n",
            "    \"sexo_biologico\": \"Masculino\"\n",
            "  },\n",
            "  \"dados_genomicos\": {\n",
            "    \"Variante_Genetica_Colesterol\": \"Presente\",\n",
            "    \"Polimorfismo_APOE\": \"e3/e4\"\n",
            "  },\n",
            "  \"historico_medico\": {\n",
            "    \"Historico_Familiar_DCV\": \"Sim\",\n",
            "    \"Parentesco_DCV\": \"Pai\",\n",
            "    \"Idade_Diagnostico_Familiar_DCV\": 55,\n",
            "    \"Diagnostico_Hipertensao\": \"Sim\",\n",
            "    \"Pressao_Arterial_Sistolica_mmHg\": 145,\n",
            "    \"Pressao_Arterial_Diastolica_mmHg\": 92,\n",
            "    \"Diagnostico_Diabetes\": \"Não\",\n",
            "    \"Nivel_Colesterol_Ultimo_Exame\": {\n",
            "      \"LDL_Colesterol_mg_dL\": 150,\n",
            "      \"HDL_Colesterol_mg_dL\": 45,\n",
            "      \"Triglicerideos_mg_dL\": 180\n",
            "    },\n",
            "    \"Medicacoes_Uso\": [\n",
            "      \"Lisinopril 10mg\"\n",
            "    ]\n",
            "  },\n",
            "  \"estilo_de_vida\": {\n",
            "    \"Alimentacao_Tipo\": \"Ocidental_Processada\",\n",
            "    \"Frequencia_Alimentacao_Processada\": \"Alta\",\n",
            "    \"Atividade_Fisica_Semanal_Minutos\": 60,\n",
            "    \"Atividade_Fisica_Tipo\": \"Caminhada Leve\",\n",
            "    \"Tabagismo_Status\": \"Ex-Fumante\",\n",
            "    \"Anos_Desde_Cessacao_Tabagismo\": 5,\n",
            "    \"Consumo_Alcool_Frequencia\": \"Semanal\",\n",
            "    \"Consumo_Alcool_Doses_Por_Vez\": 2,\n",
            "    \"Nivel_Estresse_Percebido\": \"Alto\",\n",
            "    \"Horas_Sono_Media_Noite\": 6.0\n",
            "  },\n",
            "  \"dados_ambientais\": {\n",
            "    \"Cidade_Residencia\": \"Rio de Janeiro\",\n",
            "    \"Bairro_Residencia_Simulado\": \"Centro\",\n",
            "    \"Qualidade_Ar_Regiao_RJ\": \"Moderada\",\n",
            "    \"Exposicao_Poluicao_Sonora\": \"Alta\"\n",
            "  }\n",
            "}\n",
            "\n",
            "Análise de Risco Cardiovascular:\n",
            "\n"
          ]
        }
      ]
    },
    {
      "cell_type": "code",
      "source": [
        "# Envio para a API e Recebimento da Resposta:\n",
        "print(f\"\\nEnviando dados do paciente {paciente_para_analise['id_paciente']} para análise de risco cardiovascular...\")\n",
        "try:\n",
        "    response_analise = model.generate_content(prompt_analise_risco)\n",
        "    # print(\"\\nResposta da Análise de Risco (Gemini):\")\n",
        "    # Para exibir de forma mais legível no Colab, especialmente se tiver markdown:\n",
        "    # from IPython.display import Markdown\n",
        "    # Markdown(response_analise.text)\n",
        "    print(response_analise.text) # Impressão simples\n",
        "except Exception as e:\n",
        "    print(f\"Ocorreu um erro ao gerar conteúdo: {e}\")\n",
        "    # print(f\"Detalhes do erro: {response_analise.prompt_feedback}\") # Para depurar bloqueios de segurança"
      ],
      "metadata": {
        "colab": {
          "base_uri": "https://localhost:8080/",
          "height": 454
        },
        "collapsed": true,
        "id": "cilomUMORjcv",
        "outputId": "fa940968-7f61-4a64-d481-d64c6e742278"
      },
      "execution_count": 13,
      "outputs": [
        {
          "output_type": "stream",
          "name": "stdout",
          "text": [
            "\n",
            "Enviando dados do paciente P001 para análise de risco cardiovascular...\n",
            "Com base nos dados fornecidos, os principais fatores de risco cardiovascular identificados para o paciente P001 são:\n",
            "\n",
            "*   **Idade:** 52 anos (a idade aumenta o risco cardiovascular).\n",
            "*   **Sexo:** Masculino (homens geralmente apresentam maior risco em idades mais jovens).\n",
            "*   **Genética:**\n",
            "    *   Variante Genética de Colesterol: Presente (predisposição genética para níveis elevados de colesterol).\n",
            "    *   Polimorfismo APOE: e3/e4 (associado a um risco aumentado de doença cardiovascular e Alzheimer).\n",
            "*   **Histórico Médico:**\n",
            "    *   Histórico Familiar de DCV: Sim (pai diagnosticado aos 55 anos indica predisposição familiar).\n",
            "    *   Hipertensão: Sim (pressão arterial sistólica e diastólica elevadas: 145/92 mmHg).\n",
            "    *   Nível de Colesterol: LDL elevado (150 mg/dL) e HDL relativamente baixo (45 mg/dL), triglicerídeos elevados (180 mg/dL).\n",
            "*   **Estilo de Vida:**\n",
            "    *   Alimentação: Tipo ocidental processada e alta frequência de consumo de alimentos processados.\n",
            "    *   Atividade Física: Nível de atividade física insuficiente (60 minutos semanais de caminhada leve).\n",
            "    *   Tabagismo: Ex-fumante (histórico de tabagismo contribui para o risco).\n",
            "    *   Consumo de Álcool: Consumo semanal.\n",
            "    *   Estresse: Alto nível de estresse percebido.\n",
            "    *   Sono: Horas de sono insuficientes (6 horas por noite).\n",
            "*   **Dados Ambientais:**\n",
            "    *   Qualidade do Ar: Moderada (exposição à poluição do ar pode aumentar o risco).\n",
            "    *   Exposição à Poluição Sonora: Alta (pode contribuir para o aumento da pressão arterial e estresse).\n",
            "\n"
          ]
        }
      ]
    },
    {
      "cell_type": "code",
      "source": [
        "# Iteração e Refinamento de Prompts:\n"
      ],
      "metadata": {
        "id": "7B4V_vcIUH_L"
      },
      "execution_count": 14,
      "outputs": []
    },
    {
      "cell_type": "markdown",
      "source": [
        "**Preparação do Prompt de Recomendações:**"
      ],
      "metadata": {
        "id": "UFim9odVUNs3"
      }
    },
    {
      "cell_type": "code",
      "source": [
        "# Preparação do Prompt de Recomendações:\n",
        "# (Assumindo que 'paciente_para_analise' e 'dados_paciente_json_string' ainda estão definidos)\n",
        "\n",
        "prompt_recomendacoes = f\"\"\"\n",
        "Você é um assistente de saúde preventiva com foco em medicina de precisão.\n",
        "Com base nos seguintes dados de um indivíduo e na análise de risco cardiovascular, gere recomendações preventivas personalizadas.\n",
        "As recomendações devem ser práticas e acionáveis, focando em:\n",
        "1. Mudanças no estilo de vida (dieta, exercício, sono, gerenciamento de estresse).\n",
        "2. Sugestões de exames de rastreamento ou acompanhamento (com a ressalva de sempre consultar um médico).\n",
        "3. Informações sobre como os fatores ambientais (ex: qualidade do ar no Rio de Janeiro) podem impactar sua saúde e possíveis mitigações.\n",
        "4. Se aplicável, mencionar a importância de discutir predisposições genéticas com um profissional de saúde.\n",
        "\n",
        "Importante: As recomendações NÃO substituem o aconselhamento médico profissional. Sempre indique que o usuário deve consultar um médico para decisões de saúde.\n",
        "\n",
        "Dados do Indivíduo:\n",
        "{dados_paciente_json_string}\n",
        "\n",
        "Recomendações Preventivas Personalizadas:\n",
        "\"\"\"\n",
        "# print(\"\\nPrompt para Recomendações:\")\n",
        "# print(prompt_recomendacoes)"
      ],
      "metadata": {
        "id": "mX0hGri7UNUp"
      },
      "execution_count": 15,
      "outputs": []
    },
    {
      "cell_type": "code",
      "source": [
        "# Código para Obter e Exibir Recomendações:\n",
        "print(f\"\\nEnviando dados do paciente {paciente_para_analise['id_paciente']} para geração de recomendações no Gemini...\")\n",
        "try:\n",
        "    response_recomendacoes = model.generate_content(prompt_recomendacoes)\n",
        "    print(\"\\nResposta das Recomendações (Gemini):\")\n",
        "    # from IPython.display import Markdown # Certifique-se que está importado\n",
        "    # Markdown(response_recomendacoes.text)\n",
        "    print(response_recomendacoes.text)\n",
        "except Exception as e:\n",
        "    print(f\"Ocorreu um erro ao gerar conteúdo: {e}\")\n",
        "    # print(f\"Detalhes do erro: {response_recomendacoes.prompt_feedback}\")"
      ],
      "metadata": {
        "colab": {
          "base_uri": "https://localhost:8080/",
          "height": 1000
        },
        "collapsed": true,
        "id": "pTIAjXiTUXMF",
        "outputId": "8b71da43-1877-40fb-af4f-a5146eb87d43"
      },
      "execution_count": 16,
      "outputs": [
        {
          "output_type": "stream",
          "name": "stdout",
          "text": [
            "\n",
            "Enviando dados do paciente P001 para geração de recomendações no Gemini...\n",
            "\n",
            "Resposta das Recomendações (Gemini):\n",
            "## Recomendações Preventivas Personalizadas para P001\n",
            "\n",
            "**Importante:** As recomendações a seguir são baseadas nos dados fornecidos e NÃO substituem o aconselhamento médico profissional. Consulte um médico para discutir suas necessidades individuais e tomar decisões sobre sua saúde.\n",
            "\n",
            "**Resumo da Análise de Risco:**\n",
            "\n",
            "P001, um homem de 52 anos, apresenta múltiplos fatores de risco cardiovascular, incluindo histórico familiar de doença cardiovascular (DCV), hipertensão (já medicada), níveis elevados de LDL-colesterol e triglicerídeos, alimentação inadequada, baixa atividade física, estresse elevado, sono insuficiente e exposição à poluição ambiental no Rio de Janeiro. A variante genética relacionada ao colesterol e o polimorfismo APOE e3/e4 também contribuem para o risco. Embora seja um ex-fumante, a cessação do tabagismo ocorreu há relativamente pouco tempo.\n",
            "\n",
            "**Recomendações Detalhadas:**\n",
            "\n",
            "**1. Mudanças no Estilo de Vida:**\n",
            "\n",
            "*   **Dieta:**\n",
            "    *   **Ação:** Adotar uma dieta rica em frutas, vegetais, grãos integrais, proteínas magras (peixe, frango sem pele, leguminosas) e gorduras saudáveis (azeite de oliva, abacate, oleaginosas). Reduzir drasticamente o consumo de alimentos processados, ricos em sódio, gorduras saturadas e trans.\n",
            "    *   **Justificativa:** Uma dieta saudável ajuda a reduzir o LDL-colesterol, triglicerídeos e pressão arterial, além de promover a saúde cardiovascular geral.\n",
            "    *   **Ação:** Considerar consultar um nutricionista para elaborar um plano alimentar individualizado, levando em conta as variantes genéticas relacionadas ao colesterol.\n",
            "*   **Exercício:**\n",
            "    *   **Ação:** Aumentar gradualmente a atividade física para atingir pelo menos 150 minutos por semana de atividade aeróbica moderada ou 75 minutos de atividade aeróbica vigorosa, ou uma combinação equivalente. Incorporar exercícios de fortalecimento muscular pelo menos duas vezes por semana.\n",
            "    *   **Justificativa:** A atividade física regular melhora a saúde cardiovascular, reduz a pressão arterial, o colesterol e os triglicerídeos, além de ajudar no controle do peso e do estresse.\n",
            "    *   **Ação:** Variar os tipos de exercícios para evitar monotonia e trabalhar diferentes grupos musculares (ex: caminhada rápida, natação, ciclismo, musculação).\n",
            "*   **Sono:**\n",
            "    *   **Ação:** Priorizar um sono de 7-8 horas por noite. Estabelecer uma rotina de sono regular, indo para a cama e acordando no mesmo horário todos os dias, mesmo nos fins de semana.\n",
            "    *   **Justificativa:** A privação de sono pode aumentar a pressão arterial, os níveis de açúcar no sangue e o estresse.\n",
            "    *   **Ação:** Criar um ambiente propício ao sono: quarto escuro, silencioso e com temperatura agradável. Evitar cafeína e álcool perto da hora de dormir.\n",
            "*   **Gerenciamento do Estresse:**\n",
            "    *   **Ação:** Implementar técnicas de gerenciamento de estresse, como meditação, yoga, tai chi, respiração profunda, hobbies relaxantes ou passar tempo na natureza.\n",
            "    *   **Justificativa:** O estresse crônico pode elevar a pressão arterial e contribuir para outros fatores de risco cardiovascular.\n",
            "    *   **Ação:** Considerar buscar apoio profissional de um psicólogo ou terapeuta para ajudar a lidar com o estresse.\n",
            "*   **Álcool:**\n",
            "    *   **Ação:** Reduzir o consumo de álcool. Idealmente, limitar a uma dose por dia para mulheres e duas doses por dia para homens, ou considerar a abstinência total.\n",
            "    *   **Justificativa:** O consumo excessivo de álcool pode aumentar a pressão arterial, os triglicerídeos e o risco de outras doenças.\n",
            "*   **Tabagismo:**\n",
            "    *   **Reforço positivo:** Parabéns por ter parado de fumar! Manter-se livre do tabaco é crucial para sua saúde cardiovascular a longo prazo. Evite situações que possam desencadear o desejo de fumar. Se sentir dificuldade, procure apoio profissional.\n",
            "\n",
            "**2. Sugestões de Exames de Rastreamento e Acompanhamento (Consultar um Médico):**\n",
            "\n",
            "*   **Acompanhamento da Pressão Arterial:** Monitorar a pressão arterial regularmente em casa e manter consultas regulares com o médico para ajustar a medicação, se necessário.\n",
            "*   **Perfil Lipídico Completo:** Realizar um perfil lipídico completo (LDL-colesterol, HDL-colesterol, triglicerídeos, colesterol total) anualmente ou conforme orientação médica. Ajustar o tratamento (dieta, exercícios, medicamentos) conforme os resultados.\n",
            "*   **Glicemia em Jejum e Hemoglobina Glicada (HbA1c):** Monitorar os níveis de glicose para descartar o desenvolvimento de diabetes, especialmente devido ao histórico familiar de DCV e dieta inadequada.\n",
            "*   **Avaliação Cardiológica:** Considerar uma avaliação cardiológica completa, incluindo eletrocardiograma (ECG) e ecocardiograma, para avaliar a saúde do coração e identificar precocemente possíveis problemas. A frequência desta avaliação deve ser definida pelo seu médico.\n",
            "*   **Exames Genéticos Adicionais (Discutir com um Médico):** Considerar discutir com seu médico a realização de exames genéticos mais abrangentes para identificar outros fatores de risco genéticos para DCV. Os resultados podem influenciar as estratégias de prevenção e tratamento.\n",
            "\n",
            "**3. Impacto de Fatores Ambientais no Rio de Janeiro e Mitigações:**\n",
            "\n",
            "*   **Qualidade do Ar (Moderada):**\n",
            "    *   **Impacto:** A poluição do ar no Rio de Janeiro, mesmo em níveis moderados, pode aumentar o risco de doenças cardiovasculares, especialmente em pessoas com fatores de risco preexistentes.\n",
            "    *   **Mitigações:**\n",
            "        *   Evitar atividades físicas intensas ao ar livre em dias de alta poluição.\n",
            "        *   Utilizar máscaras de proteção respiratória (N95 ou PFF2) em áreas de alta concentração de poluentes.\n",
            "        *   Manter janelas fechadas em horários de pico de poluição e utilizar purificadores de ar em casa.\n",
            "        *   Monitorar os índices de qualidade do ar e adaptar as atividades diárias de acordo.\n",
            "*   **Poluição Sonora (Alta):**\n",
            "    *   **Impacto:** A exposição contínua à poluição sonora no Centro do Rio de Janeiro pode aumentar o estresse, a pressão arterial e o risco de doenças cardiovasculares.\n",
            "    *   **Mitigações:**\n",
            "        *   Utilizar protetores auriculares em ambientes ruidosos.\n",
            "        *   Criar ambientes silenciosos em casa e no trabalho.\n",
            "        *   Considerar mudar para um bairro mais tranquilo, se possível.\n",
            "        *   Praticar técnicas de relaxamento para reduzir o estresse induzido pelo ruído.\n",
            "\n",
            "**4. Predisposições Genéticas (Discutir com um Profissional de Saúde):**\n",
            "\n",
            "*   **Variante Genética Colesterol:** A presença desta variante pode aumentar a predisposição a níveis elevados de colesterol, mesmo com mudanças no estilo de vida. É crucial discutir com um médico as opções de tratamento, incluindo medicamentos, se necessário.\n",
            "*   **Polimorfismo APOE (e3/e4):** O alelo e4 do gene APOE está associado a um maior risco de doença de Alzheimer e, em alguns estudos, a um maior risco de doença cardiovascular. Discutir com seu médico o impacto desse polimorfismo e as estratégias de prevenção apropriadas.\n",
            "\n",
            "**Próximos Passos:**\n",
            "\n",
            "1.  Agendar uma consulta com seu médico para discutir essas recomendações e criar um plano de ação individualizado.\n",
            "2.  Começar a implementar as mudanças no estilo de vida gradualmente, focando em uma ou duas mudanças por vez.\n",
            "3.  Monitorar seu progresso e ajustar o plano conforme necessário, com o apoio de profissionais de saúde.\n",
            "4.  Lembre-se que a consistência é fundamental para obter resultados positivos a longo prazo.\n",
            "\n",
            "**Observação Importante:** Esta análise e as recomendações apresentadas são baseadas nos dados fornecidos. Outros fatores de risco podem estar presentes e devem ser avaliados por um profissional de saúde qualificado. A medicina de precisão é uma área em constante evolução, e novas informações genéticas e de estilo de vida podem surgir, exigindo ajustes nas estratégias de prevenção e tratamento.\n",
            "\n"
          ]
        }
      ]
    },
    {
      "cell_type": "markdown",
      "source": [
        "**Integração de Dados Ambientais (Mais Detalhes)**"
      ],
      "metadata": {
        "id": "RsXNnYMwU6hg"
      }
    },
    {
      "cell_type": "code",
      "source": [],
      "metadata": {
        "id": "OlJEmbsnU9Hj"
      },
      "execution_count": 16,
      "outputs": []
    },
    {
      "cell_type": "markdown",
      "source": [
        "**Interface Simples no Google Colab com ipywidgets**"
      ],
      "metadata": {
        "id": "zkipdw0nWWms"
      }
    },
    {
      "cell_type": "code",
      "source": [
        "# Importar bibliotecas\n",
        "import ipywidgets as widgets\n",
        "from IPython.display import display, Markdown, clear_output # clear_output para limpar saídas anteriores"
      ],
      "metadata": {
        "id": "83fid5OiWYCm"
      },
      "execution_count": 17,
      "outputs": []
    },
    {
      "cell_type": "code",
      "source": [
        "# Criação de Campos de Entrada\n",
        "style = {'description_width': 'initial'} # Para que as descrições não sejam cortadas\n",
        "\n",
        "idade_widget = widgets.IntText(description=\"Sua Idade:\", value=50, style=style)\n",
        "sexo_widget = widgets.Dropdown(options=[\"Masculino\", \"Feminino\"], description=\"Sexo Biológico:\", style=style)\n",
        "ldl_widget = widgets.IntText(description=\"Seu LDL (mg/dL):\", value=130, style=style)\n",
        "hdl_widget = widgets.IntText(description=\"Seu HDL (mg/dL):\", value=50, style=style)\n",
        "hipertensao_widget = widgets.Checkbox(description=\"Diagnóstico de Hipertensão?\", value=False, indent=False)\n",
        "atividade_widget = widgets.Dropdown(\n",
        "    options=[\n",
        "        (\"Sedentário (0 min/sem\", 0),\n",
        "        (\"Leve (até 60min/sem)\", 60),\n",
        "        (\"Moderada (até 150 min/sem)\", 150),\n",
        "        (\"Intensa (>150 min/sem)\", 200)\n",
        "    ],\n",
        "    description=\"Atividade Física Semanal:\",\n",
        "    style=style\n",
        ")\n",
        "bairro_widget = widgets.Dropdown(\n",
        "    options=[\"Centro\", \"Copacabana\", \"Tijuca\", \"Barra da Tijuca\", \"Bangu\", \"Outro\"],\n",
        "    value=\"Centro\",\n",
        "    description=\"Seu Bairro (Rio de Janeiro):\",\n",
        "    style=style\n",
        ")\n",
        "\n",
        "# Exibir os widgets\n",
        "# display(idade_widget, sexo_widget, ldl_widget, hdl_widget, hipertensao_widget, atividade_widget, bairro_widget)"
      ],
      "metadata": {
        "id": "cXVwBim9W42h"
      },
      "execution_count": 26,
      "outputs": []
    },
    {
      "cell_type": "code",
      "source": [
        "botao_analisar = widgets.Button(description=\"Analisar e Gerar Recomendações\")\n",
        "output_area = widgets.Output() # Área para exibir os resultados\n",
        "\n",
        "def on_button_clicked(b):\n",
        "    with output_area:\n",
        "        clear_output(wait=True) # Limpa a saída anterior\n",
        "        print(\"Coletando dados e preparando para análise...\")\n",
        "\n",
        "        # Construir um dicionário de paciente com os dados dos widgets\n",
        "        # (Esta é uma simplificação, você precisaria mapear para a estrutura completa do paciente)\n",
        "        dados_usuario_widgets = {\n",
        "            \"id_paciente\": \"WidgetUser001\",\n",
        "            \"dados_pessoais\": {\n",
        "                \"idade\": idade_widget.value,\n",
        "                \"sexo_biologico\": sexo_widget.value\n",
        "            },\n",
        "            \"historico_medico\": {\n",
        "                \"Diagnostico_Hipertensao\": \"Sim\" if hipertensao_widget.value else \"Não\",\n",
        "                \"Nivel_Colesterol_Ultimo_Exame\": {\n",
        "                    \"LDL_Colesterol_mg_dL\": ldl_widget.value,\n",
        "                    \"HDL_Colesterol_mg_dL\": hdl_widget.value,\n",
        "                    \"Triglicerideos_mg_dL\": 150 # Valor fixo para simplificar\n",
        "                },\n",
        "                # Adicione mais campos conforme necessário\n",
        "            },\n",
        "            \"estilo_de_vida\": {\n",
        "                \"Atividade_Fisica_Semanal_Minutos\": atividade_widget.value,\n",
        "                # Adicione mais campos\n",
        "            },\n",
        "            \"dados_ambientais\": {\n",
        "                \"Cidade_Residencia\": \"Rio de Janeiro\",\n",
        "                \"Bairro_Residencia_Simulado\": bairro_widget.value,\n",
        "                \"Qualidade_Ar_Regiao_RJ\": \"Moderada\" # Simplificado, poderia buscar com base no bairro\n",
        "            }\n",
        "            # Adicione dados genômicos simulados fixos ou outras simplificações\n",
        "        }\n",
        "        dados_usuario_json_string = json.dumps(dados_usuario_widgets, indent=2, ensure_ascii=False)\n",
        "        print(\"Dados coletados. Enviando para o Gemini...\")\n",
        "\n",
        "        prompt_final_usuario = f\"\"\"\n",
        "        Você é um assistente de saúde preventiva.\n",
        "        Analise os seguintes dados de um indivíduo e gere recomendações preventivas personalizadas,\n",
        "        focando em risco cardiovascular, dieta, exercícios, e considerando o ambiente no Rio de Janeiro.\n",
        "        Lembre-se de que as recomendações não substituem o aconselhamento médico.\n",
        "\n",
        "        Dados do Indivíduo:\n",
        "        {dados_usuario_json_string}\n",
        "\n",
        "        Análise e Recomendações:\n",
        "        \"\"\"\n",
        "\n",
        "        try:\n",
        "            # Reutilize o 'model' configurado no Passo 1\n",
        "            response_widgets = model.generate_content(prompt_final_usuario)\n",
        "            print(\"\\n--- Análise e Recomendações do Gemini ---\")\n",
        "            display(Markdown(response_widgets.text))\n",
        "        except Exception as e:\n",
        "            print(f\"Erro ao contatar o Gemini: {e}\")\n",
        "            # if 'response_widgets' in locals() and response_widgets.prompt_feedback:\n",
        "            #    print(f\"Feedback do prompt: {response_widgets.prompt_feedback}\")\n",
        "\n",
        "\n",
        "botao_analisar.on_click(on_button_clicked)\n",
        "\n",
        "# Exibir todos os widgets e o botão\n",
        "display(idade_widget, sexo_widget, ldl_widget, hdl_widget, hipertensao_widget, atividade_widget, bairro_widget, botao_analisar, output_area)"
      ],
      "metadata": {
        "colab": {
          "base_uri": "https://localhost:8080/",
          "height": 261,
          "referenced_widgets": [
            "c1a507280f6548c0b74e2b1aebb56242",
            "1cd0aa90b564405aac0f5172ea561539",
            "c7b905e983464af186ef2312dd0a74b9",
            "d3903767385d4e238d23bdd85e82385d",
            "a746213562ec4443b235ab34f332aab0",
            "fe70d02571954d449c80bd010cda4151",
            "ad6f5d8dbeee44a7b80c59a90969bc15",
            "7426974b56a549f494eea5195573fe86",
            "e4bd4db348f640ddafa2647b78e59681",
            "4879f49b28cb49d1a652ce825d089ad6",
            "0ba4f3ecb2d24e9eacdbdcd9d4bf7058",
            "d98843d5c65d43688d62ccb7fb8cf660",
            "2a3500202fb747549ea7158e65e597db",
            "9418fc47f45d4a949e0d77377b3cd1b9",
            "bf83912b273247e097b1133fb861340c",
            "b6667bfd4f784891a2bbcf09cce53c68",
            "90fb87d24be849868742bda405eba5de",
            "ea43e9c42ba8434fac664dcf62027671",
            "3d0c1bb1ade2478e9bebd7eba305ff5f",
            "cfb12284b96f41a99f7e811b338db5df",
            "4d73f0f03a7f41b1ae3fb3e015450ba8",
            "b4f71912a9624a9c999353e939174d74",
            "1bf4e13fe5074002be7ebe6b1805d42a",
            "6cf9f713aeb74ae5b1eef7e84707bd11",
            "15af71f5001b4316aad209eb3994fa79",
            "21aaca0f3b964b9fb6813fe33deb1eb4"
          ]
        },
        "id": "wgjXOHseZxvL",
        "outputId": "2d91cef8-1b58-490d-bb57-32f65b52d403"
      },
      "execution_count": 27,
      "outputs": [
        {
          "output_type": "display_data",
          "data": {
            "text/plain": [
              "IntText(value=50, description='Sua Idade:', style=DescriptionStyle(description_width='initial'))"
            ],
            "application/vnd.jupyter.widget-view+json": {
              "version_major": 2,
              "version_minor": 0,
              "model_id": "c1a507280f6548c0b74e2b1aebb56242"
            }
          },
          "metadata": {}
        },
        {
          "output_type": "display_data",
          "data": {
            "text/plain": [
              "Dropdown(description='Sexo Biológico:', options=('Masculino', 'Feminino'), style=DescriptionStyle(description_…"
            ],
            "application/vnd.jupyter.widget-view+json": {
              "version_major": 2,
              "version_minor": 0,
              "model_id": "d3903767385d4e238d23bdd85e82385d"
            }
          },
          "metadata": {}
        },
        {
          "output_type": "display_data",
          "data": {
            "text/plain": [
              "IntText(value=130, description='Seu LDL (mg/dL):', style=DescriptionStyle(description_width='initial'))"
            ],
            "application/vnd.jupyter.widget-view+json": {
              "version_major": 2,
              "version_minor": 0,
              "model_id": "ad6f5d8dbeee44a7b80c59a90969bc15"
            }
          },
          "metadata": {}
        },
        {
          "output_type": "display_data",
          "data": {
            "text/plain": [
              "IntText(value=50, description='Seu HDL (mg/dL):', style=DescriptionStyle(description_width='initial'))"
            ],
            "application/vnd.jupyter.widget-view+json": {
              "version_major": 2,
              "version_minor": 0,
              "model_id": "4879f49b28cb49d1a652ce825d089ad6"
            }
          },
          "metadata": {}
        },
        {
          "output_type": "display_data",
          "data": {
            "text/plain": [
              "Checkbox(value=False, description='Diagnóstico de Hipertensão?', indent=False)"
            ],
            "application/vnd.jupyter.widget-view+json": {
              "version_major": 2,
              "version_minor": 0,
              "model_id": "2a3500202fb747549ea7158e65e597db"
            }
          },
          "metadata": {}
        },
        {
          "output_type": "display_data",
          "data": {
            "text/plain": [
              "Dropdown(description='Atividade Física Semanal:', options=(('Sedentário (0 min/sem', 0), ('Leve (até 60min/sem…"
            ],
            "application/vnd.jupyter.widget-view+json": {
              "version_major": 2,
              "version_minor": 0,
              "model_id": "b6667bfd4f784891a2bbcf09cce53c68"
            }
          },
          "metadata": {}
        },
        {
          "output_type": "display_data",
          "data": {
            "text/plain": [
              "Dropdown(description='Seu Bairro (Rio de Janeiro):', options=('Centro', 'Copacabana', 'Tijuca', 'Barra da Tiju…"
            ],
            "application/vnd.jupyter.widget-view+json": {
              "version_major": 2,
              "version_minor": 0,
              "model_id": "3d0c1bb1ade2478e9bebd7eba305ff5f"
            }
          },
          "metadata": {}
        },
        {
          "output_type": "display_data",
          "data": {
            "text/plain": [
              "Button(description='Analisar e Gerar Recomendações', style=ButtonStyle())"
            ],
            "application/vnd.jupyter.widget-view+json": {
              "version_major": 2,
              "version_minor": 0,
              "model_id": "b4f71912a9624a9c999353e939174d74"
            }
          },
          "metadata": {}
        },
        {
          "output_type": "display_data",
          "data": {
            "text/plain": [
              "Output()"
            ],
            "application/vnd.jupyter.widget-view+json": {
              "version_major": 2,
              "version_minor": 0,
              "model_id": "15af71f5001b4316aad209eb3994fa79"
            }
          },
          "metadata": {}
        }
      ]
    }
  ]
}